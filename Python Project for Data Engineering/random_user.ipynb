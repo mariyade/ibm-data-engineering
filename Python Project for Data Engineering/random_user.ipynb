!pip install randomuser
!pip install pandas
from randomuser import RandomUser
import pandas as pd
import requests
import json

r = RandomUser()
l = r.generate_users(10)
l
name = r.get_full_name()
for user in l:
    print(user.get_full_name()," ", user.get_email())
for user in l:
    print (user.get_picture())
def get_users():
    users = []
    for user in RandomUser.generate_users(10):
        users.append({"name":user.get_full_name(), "Gender":user.get_gender()})
    return pd.DataFrame(users)
get_users()
df1 = pd.DataFrame(get_users())

data = requests.get("https://api.coingecko.com/api/v3/coins/markets?vs_currency=usd&ids=bitcoin,ethereum,cardano")
results = json.loads(data.text)
pd.DataFrame(results)
df2 = pd.json_normalize(results)
df2
print(df2)
id = df2.loc[df2["id"] == 'bitcoin']
id.iloc[0]['roi.times']
data2 = requests.get("https://official-joke-api.appspot.com/jokes/ten")
results2 = json.loads(data2.text)
df2 = pd.DataFrame(results2)
df2.head()
df2.drop(columns=["type", "id"], inplace = True)
df2

