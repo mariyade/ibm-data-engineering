{
  "cells": [
    {
      "cell_type": "code",
      "execution_count": null,
      "id": "3eae8954-02e3-49fd-aa62-f9b0ac7094fa",
      "metadata": {
        "scrolled": true,
        "id": "3eae8954-02e3-49fd-aa62-f9b0ac7094fa",
        "outputId": "57197280-c48f-467a-c1fd-e315792fec3b",
        "colab": {
          "base_uri": "https://localhost:8080/"
        }
      },
      "outputs": [
        {
          "output_type": "stream",
          "name": "stdout",
          "text": [
            "Requirement already satisfied: pandas in /usr/local/lib/python3.11/dist-packages (2.2.2)\n",
            "Requirement already satisfied: numpy in /usr/local/lib/python3.11/dist-packages (2.0.2)\n",
            "Requirement already satisfied: python-dateutil>=2.8.2 in /usr/local/lib/python3.11/dist-packages (from pandas) (2.9.0.post0)\n",
            "Requirement already satisfied: pytz>=2020.1 in /usr/local/lib/python3.11/dist-packages (from pandas) (2025.2)\n",
            "Requirement already satisfied: tzdata>=2022.7 in /usr/local/lib/python3.11/dist-packages (from pandas) (2025.2)\n",
            "Requirement already satisfied: six>=1.5 in /usr/local/lib/python3.11/dist-packages (from python-dateutil>=2.8.2->pandas) (1.17.0)\n"
          ]
        }
      ],
      "source": [
        "!pip install pandas numpy\n",
        "!pip install lxml"
      ]
    },
    {
      "cell_type": "code",
      "execution_count": null,
      "id": "923ddb5a-109d-419d-8305-5ece50677847",
      "metadata": {
        "id": "923ddb5a-109d-419d-8305-5ece50677847"
      },
      "outputs": [],
      "source": [
        "import numpy as np\n",
        "import pandas as pd\n",
        "import requests\n",
        "def warn(*args, **kwargs):\n",
        "    pass\n",
        "import warnings\n",
        "warnings.warn = warn\n",
        "warnings.filterwarnings('ignore')"
      ]
    },
    {
      "cell_type": "code",
      "execution_count": null,
      "id": "556e13c0-3aef-4554-85cd-e109101dccff",
      "metadata": {
        "id": "556e13c0-3aef-4554-85cd-e109101dccff"
      },
      "outputs": [],
      "source": [
        "url=\"https://tradingeconomics.com/crypto\"\n",
        "headers = {\n",
        "    'User-Agent': 'Mozilla/5.0 (Windows NT 10.0; Win64; x64) AppleWebKit/537.36 (KHTML, like Gecko) Chrome/115.0.0.0 Safari/537.36'\n",
        "}\n",
        "response = requests.get(url, headers=headers)\n",
        "tables = pd.read_html(response.text)\n",
        "print(len(tables))\n",
        "print(tables[0].head())"
      ]
    },
    {
      "cell_type": "code",
      "execution_count": null,
      "id": "474e4812-54a7-4555-8dbe-6d52f81845aa",
      "metadata": {
        "id": "474e4812-54a7-4555-8dbe-6d52f81845aa"
      },
      "outputs": [],
      "source": [
        "df = tables[0]\n",
        "df.columns = range(df.shape[1])"
      ]
    },
    {
      "cell_type": "code",
      "execution_count": null,
      "id": "27f26f0e-2d5f-4777-819d-771c5fa2af7e",
      "metadata": {
        "id": "27f26f0e-2d5f-4777-819d-771c5fa2af7e"
      },
      "outputs": [],
      "source": [
        "df = df[[0,1,3]]"
      ]
    },
    {
      "cell_type": "code",
      "execution_count": null,
      "id": "a37e5967-358e-40d2-8a0e-728b92b9002d",
      "metadata": {
        "id": "a37e5967-358e-40d2-8a0e-728b92b9002d"
      },
      "outputs": [],
      "source": [
        "df = df.iloc[0:6,:]"
      ]
    },
    {
      "cell_type": "code",
      "execution_count": null,
      "id": "1f7d84c2-0a2a-4000-a610-f4829b9a0b56",
      "metadata": {
        "id": "1f7d84c2-0a2a-4000-a610-f4829b9a0b56"
      },
      "outputs": [],
      "source": [
        "df.columns = ['Crypto', 'Price', 'Daily Change (%)']"
      ]
    },
    {
      "cell_type": "code",
      "execution_count": null,
      "id": "60f87794-9ca1-47c5-8cf6-25593d813ea8",
      "metadata": {
        "id": "60f87794-9ca1-47c5-8cf6-25593d813ea8"
      },
      "outputs": [],
      "source": [
        "df['Daily Change (%)'] = df['Daily Change (%)'].str.rstrip('%').astype(float)\n",
        "df[['Daily Change (%)']] = np.round(df[['Daily Change (%)']], 2)"
      ]
    },
    {
      "cell_type": "code",
      "execution_count": null,
      "id": "d0ffc042-f050-4fb5-90f8-79993b483805",
      "metadata": {
        "id": "d0ffc042-f050-4fb5-90f8-79993b483805"
      },
      "outputs": [],
      "source": [
        "df.rename(columns = {'Daily Change (%)': '1D Change (%)'})"
      ]
    },
    {
      "cell_type": "code",
      "execution_count": null,
      "id": "f96b5b75-df02-46dd-98e8-b1a5b4139346",
      "metadata": {
        "id": "f96b5b75-df02-46dd-98e8-b1a5b4139346"
      },
      "outputs": [],
      "source": [
        "df"
      ]
    },
    {
      "cell_type": "code",
      "execution_count": null,
      "id": "92b277e8-20f0-4e60-a91d-bf31ac586de7",
      "metadata": {
        "id": "92b277e8-20f0-4e60-a91d-bf31ac586de7"
      },
      "outputs": [],
      "source": [
        "df.to_csv('./crypto.csv')"
      ]
    },
    {
      "cell_type": "code",
      "execution_count": null,
      "id": "d7754707-fc72-4fd0-bb18-36a6720fa6c0",
      "metadata": {
        "id": "d7754707-fc72-4fd0-bb18-36a6720fa6c0"
      },
      "outputs": [],
      "source": []
    },
    {
      "cell_type": "code",
      "execution_count": null,
      "id": "6bf6d9ae-13ca-4c46-aa77-45e5e4711cd6",
      "metadata": {
        "id": "6bf6d9ae-13ca-4c46-aa77-45e5e4711cd6"
      },
      "outputs": [],
      "source": []
    }
  ],
  "metadata": {
    "kernelspec": {
      "display_name": "Python 3 (ipykernel)",
      "language": "python",
      "name": "python3"
    },
    "language_info": {
      "codemirror_mode": {
        "name": "ipython",
        "version": 3
      },
      "file_extension": ".py",
      "mimetype": "text/x-python",
      "name": "python",
      "nbconvert_exporter": "python",
      "pygments_lexer": "ipython3",
      "version": "3.13.5"
    },
    "colab": {
      "provenance": []
    }
  },
  "nbformat": 4,
  "nbformat_minor": 5
}