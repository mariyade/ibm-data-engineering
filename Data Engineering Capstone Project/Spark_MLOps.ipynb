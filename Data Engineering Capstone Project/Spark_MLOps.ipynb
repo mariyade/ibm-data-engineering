{
  "cells": [
    {
      "cell_type": "markdown",
      "metadata": {
        "id": "VTOhQEqcWhy2"
      },
      "source": [
        "### Analyse search terms on the e-commerce web server\n"
      ]
    },
    {
      "cell_type": "code",
      "execution_count": null,
      "metadata": {
        "id": "i7u6c0nuWhy2"
      },
      "outputs": [],
      "source": [
        "# Install spark"
      ]
    },
    {
      "cell_type": "code",
      "execution_count": null,
      "metadata": {
        "id": "jFzcpIRaWhy3"
      },
      "outputs": [],
      "source": [
        "!pip install pyspark==3.1.2 -q\n",
        "!pip install findspark -q"
      ]
    },
    {
      "cell_type": "code",
      "execution_count": null,
      "metadata": {
        "id": "0KZjtDoOWhy3"
      },
      "outputs": [],
      "source": [
        "# Start session"
      ]
    },
    {
      "cell_type": "code",
      "execution_count": null,
      "metadata": {
        "id": "XLrYw8J0Why3",
        "outputId": "a44c478d-0625-4ec5-c837-a0526edad16e"
      },
      "outputs": [
        {
          "name": "stderr",
          "output_type": "stream",
          "text": [
            "25/06/15 20:35:49 WARN util.NativeCodeLoader: Unable to load native-hadoop library for your platform... using builtin-java classes where applicable\n",
            "Setting default log level to \"WARN\".\n",
            "To adjust logging level use sc.setLogLevel(newLevel). For SparkR, use setLogLevel(newLevel).\n",
            "25/06/15 20:35:51 WARN util.Utils: Service 'SparkUI' could not bind on port 4040. Attempting port 4041.\n"
          ]
        }
      ],
      "source": [
        "import findspark\n",
        "findspark.init()\n",
        "\n",
        "from pyspark.sql import SparkSession\n",
        "\n",
        "spark = SparkSession.builder \\\n",
        "    .appName(\"Ecommerce Search Term Analysis\") \\\n",
        "    .getOrCreate()\n",
        "from pyspark.sql.functions import col\n",
        "import urllib.request\n",
        "import tarfile\n",
        "from pyspark.ml.regression import LinearRegressionModel\n",
        "from pyspark.ml.feature import VectorAssembler"
      ]
    },
    {
      "cell_type": "code",
      "execution_count": null,
      "metadata": {
        "id": "EJfxdbwHWhy4"
      },
      "outputs": [],
      "source": [
        "# Download The search term dataset from the below url\n",
        "# https://cf-courses-data.s3.us.cloud-object-storage.appdomain.cloud/IBM-DB0321EN-SkillsNetwork/Bigdata%20and%20Spark/searchterms.csv"
      ]
    },
    {
      "cell_type": "code",
      "execution_count": null,
      "metadata": {
        "id": "fsMHs3n3Why4",
        "outputId": "7c4e1827-3d65-4d52-81f1-daacc344b881"
      },
      "outputs": [
        {
          "data": {
            "text/plain": [
              "('searchterms.csv', <http.client.HTTPMessage at 0x74788633f290>)"
            ]
          },
          "execution_count": 6,
          "metadata": {},
          "output_type": "execute_result"
        }
      ],
      "source": [
        "import urllib.request\n",
        "url = \"https://cf-courses-data.s3.us.cloud-object-storage.appdomain.cloud/IBM-DB0321EN-SkillsNetwork/Bigdata%20and%20Spark/searchterms.csv\"\n",
        "urllib.request.urlretrieve(url, \"searchterms.csv\")"
      ]
    },
    {
      "cell_type": "code",
      "execution_count": null,
      "metadata": {
        "id": "M3GNef_hWhy4"
      },
      "outputs": [],
      "source": [
        "# Load the csv into a spark dataframe"
      ]
    },
    {
      "cell_type": "code",
      "execution_count": null,
      "metadata": {
        "id": "OMESSuoPWhy5",
        "outputId": "1eed2914-51f6-4085-fddb-b30a6974fc8b"
      },
      "outputs": [
        {
          "name": "stderr",
          "output_type": "stream",
          "text": [
            "[Stage 1:>                                                          (0 + 1) / 1]"
          ]
        }
      ],
      "source": [
        "df = spark.read.csv(\"searchterms.csv\", header=True, inferSchema=True)"
      ]
    },
    {
      "cell_type": "code",
      "execution_count": null,
      "metadata": {
        "id": "GnCFaOCIWhy5",
        "outputId": "6abbcc84-0611-445c-a747-ffe80819ae11"
      },
      "outputs": [
        {
          "name": "stderr",
          "output_type": "stream",
          "text": [
            "                                                                                \r"
          ]
        }
      ],
      "source": [
        "# Print the number of rows and columns\n",
        "# Take a screenshot of the code and name it as shape.jpg)"
      ]
    },
    {
      "cell_type": "code",
      "execution_count": null,
      "metadata": {
        "tags": [],
        "id": "4ylBkUPLWhy5",
        "outputId": "ef7b8196-49a9-425d-dfcc-524334f34d3a"
      },
      "outputs": [
        {
          "name": "stdout",
          "output_type": "stream",
          "text": [
            "10000\n",
            "4\n"
          ]
        }
      ],
      "source": [
        "rowcount1 = df.count()\n",
        "columncount1 = len(df.columns)\n",
        "print(rowcount1)\n",
        "print(columncount1)"
      ]
    },
    {
      "cell_type": "code",
      "execution_count": null,
      "metadata": {
        "id": "Pu_Cme7QWhy5"
      },
      "outputs": [],
      "source": [
        "# Print the top 5 rows\n",
        "# Take a screenshot of the code and name it as top5rows.jpg)"
      ]
    },
    {
      "cell_type": "code",
      "execution_count": null,
      "metadata": {
        "tags": [],
        "id": "EsBUFNvGWhy5",
        "outputId": "33f493a1-5515-465c-86a9-20a24f7a7f77"
      },
      "outputs": [
        {
          "name": "stdout",
          "output_type": "stream",
          "text": [
            "+---+-----+----+--------------+\n",
            "|day|month|year|    searchterm|\n",
            "+---+-----+----+--------------+\n",
            "| 12|   11|2021| mobile 6 inch|\n",
            "| 12|   11|2021| mobile latest|\n",
            "| 12|   11|2021|   tablet wifi|\n",
            "| 12|   11|2021|laptop 14 inch|\n",
            "| 12|   11|2021|     mobile 5g|\n",
            "+---+-----+----+--------------+\n",
            "only showing top 5 rows\n",
            "\n"
          ]
        }
      ],
      "source": [
        "df.show(5)"
      ]
    },
    {
      "cell_type": "code",
      "execution_count": null,
      "metadata": {
        "id": "9HtwsMBQWhy5"
      },
      "outputs": [],
      "source": [
        "# Find out the datatype of the column searchterm?\n",
        "# Take a screenshot of the code and name it as datatype.jpg)"
      ]
    },
    {
      "cell_type": "code",
      "execution_count": null,
      "metadata": {
        "tags": [],
        "id": "2KCkXYX7Why6",
        "outputId": "2d91d7c8-0310-4780-8132-5cbb54e2ae0b"
      },
      "outputs": [
        {
          "name": "stdout",
          "output_type": "stream",
          "text": [
            "StringType\n"
          ]
        }
      ],
      "source": [
        "print(df.schema[\"searchterm\"].dataType)"
      ]
    },
    {
      "cell_type": "code",
      "execution_count": null,
      "metadata": {
        "id": "OYJSkl4OWhy6"
      },
      "outputs": [],
      "source": [
        "# How many times was the term `gaming laptop` searched?\n",
        "# Take a screenshot of the code and name it as gaminglaptop.jpg)"
      ]
    },
    {
      "cell_type": "code",
      "execution_count": null,
      "metadata": {
        "tags": [],
        "id": "gBGn7arIWhy6",
        "outputId": "b8c9987e-e221-4bba-a2c0-7109a1471489"
      },
      "outputs": [
        {
          "name": "stdout",
          "output_type": "stream",
          "text": [
            "499\n"
          ]
        }
      ],
      "source": [
        "gaming_laptop = df.filter(df.searchterm == \"gaming laptop\").count()\n",
        "print(gaming_laptop)"
      ]
    },
    {
      "cell_type": "code",
      "execution_count": null,
      "metadata": {
        "id": "xbq9XdyOWhy6"
      },
      "outputs": [],
      "source": [
        "# Print the top 5 most frequently used search terms?\n",
        "# Take a screenshot of the code and name it as top5terms.jpg)"
      ]
    },
    {
      "cell_type": "code",
      "execution_count": null,
      "metadata": {
        "tags": [],
        "id": "KfTwahh0Why6",
        "outputId": "86b3a6dd-3b5a-4fa3-ed00-ba9c1bb9e802"
      },
      "outputs": [
        {
          "name": "stderr",
          "output_type": "stream",
          "text": [
            "                                                                                \r"
          ]
        },
        {
          "name": "stdout",
          "output_type": "stream",
          "text": [
            "+-------------+-----+\n",
            "|   searchterm|count|\n",
            "+-------------+-----+\n",
            "|mobile 6 inch| 2312|\n",
            "|    mobile 5g| 2301|\n",
            "|mobile latest| 1327|\n",
            "|       laptop|  935|\n",
            "|  tablet wifi|  896|\n",
            "+-------------+-----+\n",
            "\n",
            "None\n"
          ]
        },
        {
          "name": "stderr",
          "output_type": "stream",
          "text": [
            "[Stage 11:==================================================>  (190 + 10) / 200]"
          ]
        },
        {
          "name": "stdout",
          "output_type": "stream",
          "text": [
            "+-----+-----+\n",
            "|month|count|\n",
            "+-----+-----+\n",
            "|   12| 5783|\n",
            "|   11| 4217|\n",
            "+-----+-----+\n",
            "\n",
            "None\n"
          ]
        },
        {
          "name": "stderr",
          "output_type": "stream",
          "text": [
            "                                                                                \r"
          ]
        }
      ],
      "source": [
        "top_5 = df.groupBy(\"searchterm\").count().orderBy(col(\"count\").desc()).limit(5).show()\n",
        "print(top_5)\n",
        "top_2 = df.groupBy(\"month\").count().orderBy(col(\"count\").desc()).limit(2).show()\n",
        "print(top_2)"
      ]
    },
    {
      "cell_type": "code",
      "execution_count": null,
      "metadata": {
        "id": "7yV2oZzCWhy6"
      },
      "outputs": [],
      "source": [
        "# The pretrained sales forecasting model is available at  the below url\n",
        "# https://cf-courses-data.s3.us.cloud-object-storage.appdomain.cloud/IBM-DB0321EN-SkillsNetwork/Bigdata%20and%20Spark/model.tar.gz"
      ]
    },
    {
      "cell_type": "code",
      "execution_count": null,
      "metadata": {
        "id": "la73zIdEWhy6"
      },
      "outputs": [],
      "source": [
        "# Load the sales forecast model.\n",
        "# Take a screenshot of the code and name it as loadmodel.jpg)"
      ]
    },
    {
      "cell_type": "code",
      "execution_count": null,
      "metadata": {
        "tags": [],
        "id": "NAhiuhK6Why7",
        "outputId": "66594c2a-333a-4205-a318-e86a9a7b6a8b"
      },
      "outputs": [
        {
          "name": "stderr",
          "output_type": "stream",
          "text": [
            "                                                                                \r"
          ]
        }
      ],
      "source": [
        "model_url = \"https://cf-courses-data.s3.us.cloud-object-storage.appdomain.cloud/IBM-DB0321EN-SkillsNetwork/Bigdata%20and%20Spark/model.tar.gz\"\n",
        "urllib.request.urlretrieve(model_url, \"model.tar.gz\")\n",
        "\n",
        "with tarfile.open(\"model.tar.gz\", \"r:gz\") as tar:\n",
        "    tar.extractall(path=\"model\")\n",
        "\n",
        "model_path = \"model/sales_prediction.model\"\n",
        "model = LinearRegressionModel.load(model_path)"
      ]
    },
    {
      "cell_type": "code",
      "execution_count": null,
      "metadata": {
        "id": "oTFFYnElWhy7"
      },
      "outputs": [],
      "source": [
        "# Using the sales forecast model, predict the sales for the year of 2023.\n",
        "# Take a screenshot of the code and name it as forecast.jpg"
      ]
    },
    {
      "cell_type": "code",
      "execution_count": null,
      "metadata": {
        "tags": [],
        "id": "ebNzLn5GWhy7",
        "outputId": "b2cdcd1e-ab28-4665-d37f-045c88361bd9"
      },
      "outputs": [
        {
          "name": "stderr",
          "output_type": "stream",
          "text": [
            "                                                                                \r"
          ]
        },
        {
          "name": "stdout",
          "output_type": "stream",
          "text": [
            "+------------------+\n",
            "|        prediction|\n",
            "+------------------+\n",
            "|175.16564294006457|\n",
            "+------------------+\n",
            "\n"
          ]
        },
        {
          "name": "stderr",
          "output_type": "stream",
          "text": [
            "25/06/15 20:36:32 WARN netlib.BLAS: Failed to load implementation from: com.github.fommil.netlib.NativeSystemBLAS\n",
            "25/06/15 20:36:32 WARN netlib.BLAS: Failed to load implementation from: com.github.fommil.netlib.NativeRefBLAS\n"
          ]
        }
      ],
      "source": [
        "data_2023 = [(2023,)]\n",
        "columns = [\"year\"]\n",
        "\n",
        "df_2023 = spark.createDataFrame(data_2023, columns)\n",
        "\n",
        "assembler = VectorAssembler(inputCols=[\"year\"], outputCol=\"features\")\n",
        "df_2023_features = assembler.transform(df_2023).select(\"features\")\n",
        "\n",
        "predictions = model.transform(df_2023_features)\n",
        "predictions.select(\"prediction\").show()"
      ]
    }
  ],
  "metadata": {
    "kernelspec": {
      "display_name": "Python",
      "language": "python",
      "name": "conda-env-python-py"
    },
    "language_info": {
      "codemirror_mode": {
        "name": "ipython",
        "version": 3
      },
      "file_extension": ".py",
      "mimetype": "text/x-python",
      "name": "python",
      "nbconvert_exporter": "python",
      "pygments_lexer": "ipython3",
      "version": "3.7.12"
    },
    "colab": {
      "provenance": []
    }
  },
  "nbformat": 4,
  "nbformat_minor": 0
}